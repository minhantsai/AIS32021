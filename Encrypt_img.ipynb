{
 "cells": [
  {
   "cell_type": "code",
   "execution_count": 3,
   "metadata": {},
   "outputs": [],
   "source": [
    "import skimage\n",
    "from skimage.io import imread\n",
    "from glob import glob\n",
    "from Crypto.Cipher import AES, DES\n",
    "import random\n",
    "import string\n",
    "from PIL import Image"
   ]
  },
  {
   "cell_type": "code",
   "execution_count": 7,
   "metadata": {},
   "outputs": [],
   "source": [
    "#Randomly generate 16 strings composed of lowercase letters\n",
    "def key_generator(size = 16, chars = string.ascii_lowercase):\n",
    "    return ''.join(random.choice(chars) for _ in range(size))\n",
    "\n",
    "def pad(data):\n",
    "    return data + b\"\\x00\" * (16 - len(data) % 16)\n",
    "\n",
    "\n",
    "def aes_cbc_encrypt(key, data, mode=AES.MODE_CBC):\n",
    "    #IV is a random value\n",
    "    IV = key_generator(16)\n",
    "    aes = DES.new(key.encode(\"utf8\"), mode, IV.encode(\"utf8\"))\n",
    "    new_data = aes.encrypt(data)\n",
    "    return new_data\n",
    "\n",
    "def aes_ecb_encrypt(key, data, mode=AES.MODE_ECB):\n",
    "    aes = AES.new(key.encode(\"utf8\"), mode)\n",
    "    new_data = aes.encrypt(data)\n",
    "    return new_data\n",
    "\n",
    "def des_cbc_encrypt(key, data, mode=DES.MODE_CBC):\n",
    "    #IV is a random value\n",
    "    IV = key_generator(8)\n",
    "    aes = DES.new(key.encode(\"utf8\"), mode, IV.encode(\"utf8\"))\n",
    "    new_data = aes.encrypt(data)\n",
    "    return new_data\n",
    "\n",
    "def des_ecb_encrypt(key, data, mode=DES.MODE_ECB):\n",
    "    aes = DES.new(key.encode(\"utf8\"), mode)\n",
    "    new_data = aes.encrypt(data)\n",
    "    return new_data\n",
    "\n",
    "\n",
    "def img_aes(ori_img):\n",
    "    byte_img = ori_img.tobytes()\n",
    "    imlength = len(byte_img)\n",
    "    key = key_generator(8)\n",
    "\n",
    "    value_encrypt = des_cbc_encrypt(key, pad(byte_img))[:imlength]\n",
    "\n",
    "    im2 = Image.new('L', (112,92))\n",
    "    im2.putdata(value_encrypt)\n",
    "\n",
    "    # Save the object as an image in the corresponding format\n",
    "    return im2\n",
    "\n",
    "\n",
    "for idx in range(40):\n",
    "    ori_img_path = glob('AT&T/s{}/*.pgm'.format(idx))\n",
    "    \n",
    "    for p in ori_img_path:\n",
    "        ori_img = imread(p)\n",
    "        im_enc = img_aes(ori_img)\n",
    "        im_enc.save(p.replace('AT&T','AT&T_AES') , \"PPM\")"
   ]
  }
 ],
 "metadata": {
  "kernelspec": {
   "display_name": "Python 3",
   "language": "python",
   "name": "python3"
  },
  "language_info": {
   "codemirror_mode": {
    "name": "ipython",
    "version": 3
   },
   "file_extension": ".py",
   "mimetype": "text/x-python",
   "name": "python",
   "nbconvert_exporter": "python",
   "pygments_lexer": "ipython3",
   "version": "3.8.5"
  }
 },
 "nbformat": 4,
 "nbformat_minor": 4
}
